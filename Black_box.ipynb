{
 "cells": [
  {
   "cell_type": "markdown",
   "metadata": {
    "_cell_guid": "440129fa-bb2d-47b8-9415-714467d98743",
    "_execution_state": "idle",
    "_uuid": "44f63ca7fc70094c75598c27b433b316ea406237"
   },
   "source": [
    "Black Box"
   ]
  },
  {
   "cell_type": "code",
   "execution_count": 1,
   "metadata": {
    "_cell_guid": "55ec59e1-8a8c-42d2-8ccc-b6d95ea198b4",
    "_execution_state": "busy",
    "_uuid": "a6d625ede9e19ac1f146a5f63d6ca19c4b98e20c"
   },
   "outputs": [],
   "source": [
    "import pandas as pd\n",
    "import numpy as np\n",
    "\n",
    "np.random.seed(1212)\n",
    "\n",
    "import keras\n",
    "from keras.models import Model\n",
    "from keras.layers import *\n",
    "from keras import optimizers"
   ]
  },
  {
   "cell_type": "code",
   "execution_count": 2,
   "metadata": {
    "_cell_guid": "daa0805e-e1dd-4806-b2db-ff0124febe7d",
    "_execution_state": "busy",
    "_uuid": "be0a7acbb3bfc83fd3103b4a401337aafe57c00d"
   },
   "outputs": [],
   "source": [
    "df_train = pd.read_csv('C:\\\\Users\\\\Nishaant Harrish\\\\Downloads\\\\train.csv')\n",
    "df_test = pd.read_csv('C:\\\\Users\\\\Nishaant Harrish\\\\Downloads\\\\test.csv')"
   ]
  },
  {
   "cell_type": "code",
   "execution_count": 3,
   "metadata": {
    "_cell_guid": "dfae6a31-23ea-4d88-9fcd-06b8b705b614",
    "_execution_state": "busy",
    "_uuid": "0f7bfb5923e5b4ed5a5149c007a2cd39cb9b8282"
   },
   "outputs": [
    {
     "data": {
      "text/html": [
       "<div>\n",
       "<style scoped>\n",
       "    .dataframe tbody tr th:only-of-type {\n",
       "        vertical-align: middle;\n",
       "    }\n",
       "\n",
       "    .dataframe tbody tr th {\n",
       "        vertical-align: top;\n",
       "    }\n",
       "\n",
       "    .dataframe thead th {\n",
       "        text-align: right;\n",
       "    }\n",
       "</style>\n",
       "<table border=\"1\" class=\"dataframe\">\n",
       "  <thead>\n",
       "    <tr style=\"text-align: right;\">\n",
       "      <th></th>\n",
       "      <th>label</th>\n",
       "      <th>pixel0</th>\n",
       "      <th>pixel1</th>\n",
       "      <th>pixel2</th>\n",
       "      <th>pixel3</th>\n",
       "      <th>pixel4</th>\n",
       "      <th>pixel5</th>\n",
       "      <th>pixel6</th>\n",
       "      <th>pixel7</th>\n",
       "      <th>pixel8</th>\n",
       "      <th>...</th>\n",
       "      <th>pixel774</th>\n",
       "      <th>pixel775</th>\n",
       "      <th>pixel776</th>\n",
       "      <th>pixel777</th>\n",
       "      <th>pixel778</th>\n",
       "      <th>pixel779</th>\n",
       "      <th>pixel780</th>\n",
       "      <th>pixel781</th>\n",
       "      <th>pixel782</th>\n",
       "      <th>pixel783</th>\n",
       "    </tr>\n",
       "  </thead>\n",
       "  <tbody>\n",
       "    <tr>\n",
       "      <th>0</th>\n",
       "      <td>1</td>\n",
       "      <td>0</td>\n",
       "      <td>0</td>\n",
       "      <td>0</td>\n",
       "      <td>0</td>\n",
       "      <td>0</td>\n",
       "      <td>0</td>\n",
       "      <td>0</td>\n",
       "      <td>0</td>\n",
       "      <td>0</td>\n",
       "      <td>...</td>\n",
       "      <td>0</td>\n",
       "      <td>0</td>\n",
       "      <td>0</td>\n",
       "      <td>0</td>\n",
       "      <td>0</td>\n",
       "      <td>0</td>\n",
       "      <td>0</td>\n",
       "      <td>0</td>\n",
       "      <td>0</td>\n",
       "      <td>0</td>\n",
       "    </tr>\n",
       "    <tr>\n",
       "      <th>1</th>\n",
       "      <td>0</td>\n",
       "      <td>0</td>\n",
       "      <td>0</td>\n",
       "      <td>0</td>\n",
       "      <td>0</td>\n",
       "      <td>0</td>\n",
       "      <td>0</td>\n",
       "      <td>0</td>\n",
       "      <td>0</td>\n",
       "      <td>0</td>\n",
       "      <td>...</td>\n",
       "      <td>0</td>\n",
       "      <td>0</td>\n",
       "      <td>0</td>\n",
       "      <td>0</td>\n",
       "      <td>0</td>\n",
       "      <td>0</td>\n",
       "      <td>0</td>\n",
       "      <td>0</td>\n",
       "      <td>0</td>\n",
       "      <td>0</td>\n",
       "    </tr>\n",
       "    <tr>\n",
       "      <th>2</th>\n",
       "      <td>1</td>\n",
       "      <td>0</td>\n",
       "      <td>0</td>\n",
       "      <td>0</td>\n",
       "      <td>0</td>\n",
       "      <td>0</td>\n",
       "      <td>0</td>\n",
       "      <td>0</td>\n",
       "      <td>0</td>\n",
       "      <td>0</td>\n",
       "      <td>...</td>\n",
       "      <td>0</td>\n",
       "      <td>0</td>\n",
       "      <td>0</td>\n",
       "      <td>0</td>\n",
       "      <td>0</td>\n",
       "      <td>0</td>\n",
       "      <td>0</td>\n",
       "      <td>0</td>\n",
       "      <td>0</td>\n",
       "      <td>0</td>\n",
       "    </tr>\n",
       "    <tr>\n",
       "      <th>3</th>\n",
       "      <td>4</td>\n",
       "      <td>0</td>\n",
       "      <td>0</td>\n",
       "      <td>0</td>\n",
       "      <td>0</td>\n",
       "      <td>0</td>\n",
       "      <td>0</td>\n",
       "      <td>0</td>\n",
       "      <td>0</td>\n",
       "      <td>0</td>\n",
       "      <td>...</td>\n",
       "      <td>0</td>\n",
       "      <td>0</td>\n",
       "      <td>0</td>\n",
       "      <td>0</td>\n",
       "      <td>0</td>\n",
       "      <td>0</td>\n",
       "      <td>0</td>\n",
       "      <td>0</td>\n",
       "      <td>0</td>\n",
       "      <td>0</td>\n",
       "    </tr>\n",
       "    <tr>\n",
       "      <th>4</th>\n",
       "      <td>0</td>\n",
       "      <td>0</td>\n",
       "      <td>0</td>\n",
       "      <td>0</td>\n",
       "      <td>0</td>\n",
       "      <td>0</td>\n",
       "      <td>0</td>\n",
       "      <td>0</td>\n",
       "      <td>0</td>\n",
       "      <td>0</td>\n",
       "      <td>...</td>\n",
       "      <td>0</td>\n",
       "      <td>0</td>\n",
       "      <td>0</td>\n",
       "      <td>0</td>\n",
       "      <td>0</td>\n",
       "      <td>0</td>\n",
       "      <td>0</td>\n",
       "      <td>0</td>\n",
       "      <td>0</td>\n",
       "      <td>0</td>\n",
       "    </tr>\n",
       "  </tbody>\n",
       "</table>\n",
       "<p>5 rows × 785 columns</p>\n",
       "</div>"
      ],
      "text/plain": [
       "   label  pixel0  pixel1  pixel2  pixel3  pixel4  pixel5  pixel6  pixel7  \\\n",
       "0      1       0       0       0       0       0       0       0       0   \n",
       "1      0       0       0       0       0       0       0       0       0   \n",
       "2      1       0       0       0       0       0       0       0       0   \n",
       "3      4       0       0       0       0       0       0       0       0   \n",
       "4      0       0       0       0       0       0       0       0       0   \n",
       "\n",
       "   pixel8  ...  pixel774  pixel775  pixel776  pixel777  pixel778  pixel779  \\\n",
       "0       0  ...         0         0         0         0         0         0   \n",
       "1       0  ...         0         0         0         0         0         0   \n",
       "2       0  ...         0         0         0         0         0         0   \n",
       "3       0  ...         0         0         0         0         0         0   \n",
       "4       0  ...         0         0         0         0         0         0   \n",
       "\n",
       "   pixel780  pixel781  pixel782  pixel783  \n",
       "0         0         0         0         0  \n",
       "1         0         0         0         0  \n",
       "2         0         0         0         0  \n",
       "3         0         0         0         0  \n",
       "4         0         0         0         0  \n",
       "\n",
       "[5 rows x 785 columns]"
      ]
     },
     "execution_count": 3,
     "metadata": {},
     "output_type": "execute_result"
    }
   ],
   "source": [
    "df_train.head() "
   ]
  },
  {
   "cell_type": "markdown",
   "metadata": {
    "_cell_guid": "45bd232a-4000-4a06-a3ed-0be9f993746c",
    "_execution_state": "idle",
    "_uuid": "f0970dcbc0b6791dc44936d8d63e6985dfb6960c"
   },
   "source": [
    "## Splitting into training and validation dataset"
   ]
  },
  {
   "cell_type": "code",
   "execution_count": 4,
   "metadata": {
    "_cell_guid": "bb78680a-ce50-4ee9-a77f-265b9ee38aee",
    "_execution_state": "busy",
    "_uuid": "16e39b5512ed29c8f9d7db51331693e4689ce306"
   },
   "outputs": [
    {
     "name": "stdout",
     "output_type": "stream",
     "text": [
      "(28000, 784)\n"
     ]
    }
   ],
   "source": [
    "df_features = df_train.iloc[:, 1:785]\n",
    "df_label = df_train.iloc[:, 0]\n",
    "\n",
    "X_test = df_test.iloc[:, 0:784]\n",
    "\n",
    "print(X_test.shape)"
   ]
  },
  {
   "cell_type": "code",
   "execution_count": 5,
   "metadata": {
    "_cell_guid": "a3fb0b37-1edf-42bd-b951-86f254b78fc1",
    "_execution_state": "busy",
    "_uuid": "a98808f6188e9c44741ad2b5c25a894106406dfc"
   },
   "outputs": [],
   "source": [
    "from sklearn.model_selection import train_test_split\n",
    "X_train, X_cv, y_train, y_cv = train_test_split(df_features, df_label, \n",
    "                                                test_size = 0.2,\n",
    "                                                random_state = 1212)\n",
    "\n",
    "X_train = np.array(X_train).reshape(33600, 784) #(33600, 784)\n",
    "X_cv = np.array(X_cv).reshape(8400, 784) #(8400, 784)\n",
    "\n",
    "X_test = np.array(X_test).reshape(28000, 784)"
   ]
  },
  {
   "cell_type": "markdown",
   "metadata": {
    "_cell_guid": "4486ba9e-b8b3-4f09-a597-3d5e6bbd6c1c",
    "_execution_state": "idle",
    "_uuid": "9a10a6e1aae9645a7c3e5a703d78d9c3b096f6d3"
   },
   "source": [
    "## Data cleaning, normalization and selection"
   ]
  },
  {
   "cell_type": "code",
   "execution_count": 6,
   "metadata": {
    "_cell_guid": "4d0e07b5-28dd-42f1-b425-6414aea90cde",
    "_execution_state": "busy",
    "_uuid": "cc2daf9f099fb62e3b470f913349428ef396b75b"
   },
   "outputs": [
    {
     "name": "stdout",
     "output_type": "stream",
     "text": [
      "(0, 255)\n"
     ]
    }
   ],
   "source": [
    "print((min(X_train[1]), max(X_train[1])))"
   ]
  },
  {
   "cell_type": "code",
   "execution_count": 7,
   "metadata": {
    "_cell_guid": "e9f8eaa0-c77e-4510-9ff1-bb56e1d5f76d",
    "_execution_state": "busy",
    "_uuid": "c24261ffd2384078a836a909ea4839a31d51dd66"
   },
   "outputs": [],
   "source": [
    "# Feature Normalization \n",
    "X_train = X_train.astype('float32'); X_cv= X_cv.astype('float32'); X_test = X_test.astype('float32')\n",
    "X_train /= 255; X_cv /= 255; X_test /= 255\n",
    "\n",
    "# Convert labels to One Hot Encoded\n",
    "num_digits = 10\n",
    "y_train = keras.utils.to_categorical(y_train, num_digits)\n",
    "y_cv = keras.utils.to_categorical(y_cv, num_digits)"
   ]
  },
  {
   "cell_type": "code",
   "execution_count": 8,
   "metadata": {
    "_cell_guid": "6667ca35-44ff-43f3-b88b-27b787be4ee0",
    "_execution_state": "busy",
    "_uuid": "3fdf37a538504f4e5288cbb8b70a719c2689caca"
   },
   "outputs": [
    {
     "name": "stdout",
     "output_type": "stream",
     "text": [
      "[0. 0. 1. 0. 0. 0. 0. 0. 0. 0.]\n",
      "[0. 0. 0. 0. 0. 0. 0. 1. 0. 0.]\n"
     ]
    }
   ],
   "source": [
    "# Printing 2 examples of labels after conversion\n",
    "print(y_train[0]) # 2\n",
    "print(y_train[3]) # 7"
   ]
  },
  {
   "cell_type": "markdown",
   "metadata": {
    "_cell_guid": "7d4e437c-12ea-4bad-a580-5504e8a77da0",
    "_execution_state": "idle",
    "_uuid": "0776b5f2aff1ebb6f12c2a9ee8e93013c690caf6"
   },
   "source": [
    "## Model Fitting"
   ]
  },
  {
   "cell_type": "code",
   "execution_count": 9,
   "metadata": {
    "_cell_guid": "be9af3d4-ddac-4f85-945f-bd1cdf09fc15",
    "_execution_state": "busy",
    "_uuid": "b88da407b6dab83e54b5380e0e62459577949932"
   },
   "outputs": [],
   "source": [
    "# Input Parameters\n",
    "n_input = 784 # number of features\n",
    "n_hidden_1 = 300\n",
    "n_hidden_2 = 100\n",
    "n_hidden_3 = 100\n",
    "n_hidden_4 = 200\n",
    "num_digits = 10"
   ]
  },
  {
   "cell_type": "code",
   "execution_count": 10,
   "metadata": {
    "_cell_guid": "74eac473-a6cb-4356-a982-ef3cb6c971de",
    "_execution_state": "busy",
    "_uuid": "f97a558010d88407363bbb08fa00e7c87a3d6ceb"
   },
   "outputs": [],
   "source": [
    "Inp = Input(shape=(784,))\n",
    "x = Dense(n_hidden_1, activation='relu', name = \"Hidden_Layer_1\")(Inp)\n",
    "x = Dense(n_hidden_2, activation='relu', name = \"Hidden_Layer_2\")(x)\n",
    "x = Dense(n_hidden_3, activation='relu', name = \"Hidden_Layer_3\")(x)\n",
    "x = Dense(n_hidden_4, activation='relu', name = \"Hidden_Layer_4\")(x)\n",
    "output = Dense(num_digits, activation='softmax', name = \"Output_Layer\")(x)"
   ]
  },
  {
   "cell_type": "code",
   "execution_count": 11,
   "metadata": {
    "_cell_guid": "bf09781e-6376-4f2d-a872-6292d466f657",
    "_execution_state": "busy",
    "_uuid": "aaf8fe1cd6cb32675f0ed5009d7bc31d6f71e4ea"
   },
   "outputs": [
    {
     "name": "stdout",
     "output_type": "stream",
     "text": [
      "Model: \"model\"\n",
      "_________________________________________________________________\n",
      " Layer (type)                Output Shape              Param #   \n",
      "=================================================================\n",
      " input_1 (InputLayer)        [(None, 784)]             0         \n",
      "                                                                 \n",
      " Hidden_Layer_1 (Dense)      (None, 300)               235500    \n",
      "                                                                 \n",
      " Hidden_Layer_2 (Dense)      (None, 100)               30100     \n",
      "                                                                 \n",
      " Hidden_Layer_3 (Dense)      (None, 100)               10100     \n",
      "                                                                 \n",
      " Hidden_Layer_4 (Dense)      (None, 200)               20200     \n",
      "                                                                 \n",
      " Output_Layer (Dense)        (None, 10)                2010      \n",
      "                                                                 \n",
      "=================================================================\n",
      "Total params: 297,910\n",
      "Trainable params: 297,910\n",
      "Non-trainable params: 0\n",
      "_________________________________________________________________\n"
     ]
    }
   ],
   "source": [
    "# Our model would have '6' layers - input layer, 4 hidden layer and 1 output layer\n",
    "model = Model(Inp, output)\n",
    "model.summary() # We have 297,910 parameters to estimate"
   ]
  },
  {
   "cell_type": "code",
   "execution_count": 12,
   "metadata": {
    "_cell_guid": "906807f1-ed62-4dee-a423-5f15842fb28f",
    "_execution_state": "busy",
    "_uuid": "c4ea7858fbdf41308dcdb5d373af11484d5b5140"
   },
   "outputs": [
    {
     "name": "stderr",
     "output_type": "stream",
     "text": [
      "C:\\Users\\Nishaant Harrish\\anaconda3\\lib\\site-packages\\keras\\optimizers\\optimizer_v2\\gradient_descent.py:111: UserWarning: The `lr` argument is deprecated, use `learning_rate` instead.\n",
      "  super().__init__(name, **kwargs)\n"
     ]
    }
   ],
   "source": [
    "# Insert Hyperparameters\n",
    "learning_rate = 0.1\n",
    "training_epochs = 20\n",
    "batch_size = 100\n",
    "sgd = optimizers.SGD(lr=learning_rate)"
   ]
  },
  {
   "cell_type": "code",
   "execution_count": 13,
   "metadata": {
    "_cell_guid": "5678ce6d-58eb-4394-9a77-b67c94c2ca4f",
    "_execution_state": "busy",
    "_uuid": "775193de659c41c949495a2afa3b14024a2536a7"
   },
   "outputs": [],
   "source": [
    "# We rely on the plain vanilla Stochastic Gradient Descent as our optimizing methodology\n",
    "model.compile(loss='categorical_crossentropy',\n",
    "              optimizer='sgd',\n",
    "              metrics=['accuracy'])"
   ]
  },
  {
   "cell_type": "code",
   "execution_count": 14,
   "metadata": {
    "_cell_guid": "1a547d04-6aeb-4c76-8fbc-7fbca1b50b2a",
    "_execution_state": "busy",
    "_uuid": "4960dfa65394fb0314ce9cb7af63d48709a39d1a"
   },
   "outputs": [
    {
     "name": "stdout",
     "output_type": "stream",
     "text": [
      "Epoch 1/20\n",
      "336/336 - 6s - loss: 1.9064 - accuracy: 0.4381 - val_loss: 1.1532 - val_accuracy: 0.7182 - 6s/epoch - 17ms/step\n",
      "Epoch 2/20\n",
      "336/336 - 3s - loss: 0.7262 - accuracy: 0.8075 - val_loss: 0.5107 - val_accuracy: 0.8585 - 3s/epoch - 10ms/step\n",
      "Epoch 3/20\n",
      "336/336 - 3s - loss: 0.4392 - accuracy: 0.8751 - val_loss: 0.3846 - val_accuracy: 0.8921 - 3s/epoch - 10ms/step\n",
      "Epoch 4/20\n",
      "336/336 - 3s - loss: 0.3543 - accuracy: 0.8974 - val_loss: 0.3364 - val_accuracy: 0.9037 - 3s/epoch - 10ms/step\n",
      "Epoch 5/20\n",
      "336/336 - 3s - loss: 0.3100 - accuracy: 0.9094 - val_loss: 0.3010 - val_accuracy: 0.9148 - 3s/epoch - 10ms/step\n",
      "Epoch 6/20\n",
      "336/336 - 3s - loss: 0.2808 - accuracy: 0.9188 - val_loss: 0.2818 - val_accuracy: 0.9198 - 3s/epoch - 9ms/step\n",
      "Epoch 7/20\n",
      "336/336 - 3s - loss: 0.2575 - accuracy: 0.9244 - val_loss: 0.2556 - val_accuracy: 0.9256 - 3s/epoch - 9ms/step\n",
      "Epoch 8/20\n",
      "336/336 - 3s - loss: 0.2380 - accuracy: 0.9302 - val_loss: 0.2439 - val_accuracy: 0.9276 - 3s/epoch - 9ms/step\n",
      "Epoch 9/20\n",
      "336/336 - 3s - loss: 0.2214 - accuracy: 0.9351 - val_loss: 0.2315 - val_accuracy: 0.9319 - 3s/epoch - 9ms/step\n",
      "Epoch 10/20\n",
      "336/336 - 3s - loss: 0.2068 - accuracy: 0.9390 - val_loss: 0.2164 - val_accuracy: 0.9368 - 3s/epoch - 9ms/step\n",
      "Epoch 11/20\n",
      "336/336 - 3s - loss: 0.1939 - accuracy: 0.9434 - val_loss: 0.2093 - val_accuracy: 0.9385 - 3s/epoch - 10ms/step\n",
      "Epoch 12/20\n",
      "336/336 - 3s - loss: 0.1836 - accuracy: 0.9467 - val_loss: 0.1984 - val_accuracy: 0.9410 - 3s/epoch - 10ms/step\n",
      "Epoch 13/20\n",
      "336/336 - 3s - loss: 0.1734 - accuracy: 0.9486 - val_loss: 0.1905 - val_accuracy: 0.9440 - 3s/epoch - 10ms/step\n",
      "Epoch 14/20\n",
      "336/336 - 3s - loss: 0.1637 - accuracy: 0.9525 - val_loss: 0.1864 - val_accuracy: 0.9433 - 3s/epoch - 9ms/step\n",
      "Epoch 15/20\n",
      "336/336 - 3s - loss: 0.1551 - accuracy: 0.9552 - val_loss: 0.1764 - val_accuracy: 0.9487 - 3s/epoch - 10ms/step\n",
      "Epoch 16/20\n",
      "336/336 - 3s - loss: 0.1476 - accuracy: 0.9571 - val_loss: 0.1762 - val_accuracy: 0.9480 - 3s/epoch - 10ms/step\n",
      "Epoch 17/20\n",
      "336/336 - 3s - loss: 0.1405 - accuracy: 0.9592 - val_loss: 0.1671 - val_accuracy: 0.9519 - 3s/epoch - 10ms/step\n",
      "Epoch 18/20\n",
      "336/336 - 3s - loss: 0.1333 - accuracy: 0.9610 - val_loss: 0.1609 - val_accuracy: 0.9525 - 3s/epoch - 10ms/step\n",
      "Epoch 19/20\n",
      "336/336 - 3s - loss: 0.1273 - accuracy: 0.9635 - val_loss: 0.1585 - val_accuracy: 0.9540 - 3s/epoch - 10ms/step\n",
      "Epoch 20/20\n",
      "336/336 - 3s - loss: 0.1211 - accuracy: 0.9649 - val_loss: 0.1573 - val_accuracy: 0.9557 - 3s/epoch - 10ms/step\n"
     ]
    }
   ],
   "source": [
    "history1 = model.fit(X_train, y_train,\n",
    "                     batch_size = batch_size,\n",
    "                     epochs = training_epochs,\n",
    "                     verbose = 2,\n",
    "                     validation_data=(X_cv, y_cv))"
   ]
  },
  {
   "cell_type": "code",
   "execution_count": 15,
   "metadata": {
    "_cell_guid": "4e7a2ba9-ac08-4355-a37f-2336220cfda7",
    "_execution_state": "busy",
    "_uuid": "3d9c3ffb9722b640ea0682e5826971045091db66"
   },
   "outputs": [
    {
     "name": "stderr",
     "output_type": "stream",
     "text": [
      "C:\\Users\\Nishaant Harrish\\anaconda3\\lib\\site-packages\\keras\\optimizers\\optimizer_v2\\adam.py:114: UserWarning: The `lr` argument is deprecated, use `learning_rate` instead.\n",
      "  super().__init__(name, **kwargs)\n"
     ]
    }
   ],
   "source": [
    "Inp = Input(shape=(784,))\n",
    "x = Dense(n_hidden_1, activation='relu', name = \"Hidden_Layer_1\")(Inp)\n",
    "x = Dense(n_hidden_2, activation='relu', name = \"Hidden_Layer_2\")(x)\n",
    "x = Dense(n_hidden_3, activation='relu', name = \"Hidden_Layer_3\")(x)\n",
    "x = Dense(n_hidden_4, activation='relu', name = \"Hidden_Layer_4\")(x)\n",
    "output = Dense(num_digits, activation='softmax', name = \"Output_Layer\")(x)\n",
    "\n",
    "# We rely on ADAM as our optimizing methodology\n",
    "adam = keras.optimizers.Adam(lr=learning_rate)\n",
    "model2 = Model(Inp, output)\n",
    "\n",
    "model2.compile(loss='categorical_crossentropy',\n",
    "              optimizer='adam',\n",
    "              metrics=['accuracy'])"
   ]
  },
  {
   "cell_type": "code",
   "execution_count": 16,
   "metadata": {
    "_cell_guid": "e4470ac7-6888-4b10-a4e5-8bd4e22301cf",
    "_execution_state": "busy",
    "_uuid": "7f94a2f9d7db89bf3fb28ecff64dbf7a496b0b9c"
   },
   "outputs": [
    {
     "name": "stdout",
     "output_type": "stream",
     "text": [
      "Epoch 1/20\n",
      "336/336 - 5s - loss: 0.3357 - accuracy: 0.8993 - val_loss: 0.1457 - val_accuracy: 0.9568 - 5s/epoch - 16ms/step\n",
      "Epoch 2/20\n",
      "336/336 - 3s - loss: 0.1218 - accuracy: 0.9623 - val_loss: 0.1442 - val_accuracy: 0.9581 - 3s/epoch - 10ms/step\n",
      "Epoch 3/20\n",
      "336/336 - 3s - loss: 0.0834 - accuracy: 0.9739 - val_loss: 0.1033 - val_accuracy: 0.9695 - 3s/epoch - 10ms/step\n",
      "Epoch 4/20\n",
      "336/336 - 3s - loss: 0.0618 - accuracy: 0.9793 - val_loss: 0.1002 - val_accuracy: 0.9726 - 3s/epoch - 10ms/step\n",
      "Epoch 5/20\n",
      "336/336 - 3s - loss: 0.0433 - accuracy: 0.9865 - val_loss: 0.1073 - val_accuracy: 0.9704 - 3s/epoch - 9ms/step\n",
      "Epoch 6/20\n",
      "336/336 - 3s - loss: 0.0385 - accuracy: 0.9872 - val_loss: 0.1014 - val_accuracy: 0.9704 - 3s/epoch - 10ms/step\n",
      "Epoch 7/20\n",
      "336/336 - 3s - loss: 0.0252 - accuracy: 0.9916 - val_loss: 0.0960 - val_accuracy: 0.9755 - 3s/epoch - 10ms/step\n",
      "Epoch 8/20\n",
      "336/336 - 3s - loss: 0.0296 - accuracy: 0.9904 - val_loss: 0.1021 - val_accuracy: 0.9738 - 3s/epoch - 10ms/step\n",
      "Epoch 9/20\n",
      "336/336 - 3s - loss: 0.0224 - accuracy: 0.9927 - val_loss: 0.1197 - val_accuracy: 0.9733 - 3s/epoch - 10ms/step\n",
      "Epoch 10/20\n",
      "336/336 - 3s - loss: 0.0189 - accuracy: 0.9938 - val_loss: 0.1369 - val_accuracy: 0.9688 - 3s/epoch - 10ms/step\n",
      "Epoch 11/20\n",
      "336/336 - 4s - loss: 0.0203 - accuracy: 0.9936 - val_loss: 0.1026 - val_accuracy: 0.9763 - 4s/epoch - 10ms/step\n",
      "Epoch 12/20\n",
      "336/336 - 4s - loss: 0.0188 - accuracy: 0.9939 - val_loss: 0.1141 - val_accuracy: 0.9760 - 4s/epoch - 11ms/step\n",
      "Epoch 13/20\n",
      "336/336 - 4s - loss: 0.0168 - accuracy: 0.9943 - val_loss: 0.1403 - val_accuracy: 0.9700 - 4s/epoch - 11ms/step\n",
      "Epoch 14/20\n",
      "336/336 - 4s - loss: 0.0130 - accuracy: 0.9959 - val_loss: 0.0954 - val_accuracy: 0.9802 - 4s/epoch - 11ms/step\n",
      "Epoch 15/20\n",
      "336/336 - 3s - loss: 0.0166 - accuracy: 0.9944 - val_loss: 0.1113 - val_accuracy: 0.9757 - 3s/epoch - 10ms/step\n",
      "Epoch 16/20\n",
      "336/336 - 3s - loss: 0.0154 - accuracy: 0.9954 - val_loss: 0.1046 - val_accuracy: 0.9799 - 3s/epoch - 10ms/step\n",
      "Epoch 17/20\n",
      "336/336 - 3s - loss: 0.0140 - accuracy: 0.9956 - val_loss: 0.1154 - val_accuracy: 0.9755 - 3s/epoch - 10ms/step\n",
      "Epoch 18/20\n",
      "336/336 - 3s - loss: 0.0136 - accuracy: 0.9955 - val_loss: 0.1232 - val_accuracy: 0.9752 - 3s/epoch - 10ms/step\n",
      "Epoch 19/20\n",
      "336/336 - 4s - loss: 0.0147 - accuracy: 0.9958 - val_loss: 0.1151 - val_accuracy: 0.9767 - 4s/epoch - 11ms/step\n",
      "Epoch 20/20\n",
      "336/336 - 3s - loss: 0.0071 - accuracy: 0.9979 - val_loss: 0.1198 - val_accuracy: 0.9782 - 3s/epoch - 10ms/step\n"
     ]
    }
   ],
   "source": [
    "history2 = model2.fit(X_train, y_train,\n",
    "                      batch_size = batch_size,\n",
    "                      epochs = training_epochs,\n",
    "                      verbose = 2,\n",
    "                      validation_data=(X_cv, y_cv))"
   ]
  },
  {
   "cell_type": "code",
   "execution_count": 17,
   "metadata": {
    "_cell_guid": "da528246-4223-42ff-af96-cd3419c34507",
    "_execution_state": "busy",
    "_uuid": "d2e88469ac4ed8ac19a195d71941178d8cdb7c32"
   },
   "outputs": [],
   "source": [
    "Inp = Input(shape=(784,))\n",
    "x = Dense(n_hidden_1, activation='relu', name = \"Hidden_Layer_1\")(Inp)\n",
    "x = Dense(n_hidden_2, activation='relu', name = \"Hidden_Layer_2\")(x)\n",
    "x = Dense(n_hidden_3, activation='relu', name = \"Hidden_Layer_3\")(x)\n",
    "x = Dense(n_hidden_4, activation='relu', name = \"Hidden_Layer_4\")(x)\n",
    "output = Dense(num_digits, activation='softmax', name = \"Output_Layer\")(x)\n",
    "\n",
    "learning_rate = 0.01\n",
    "adam = keras.optimizers.Adam(lr=learning_rate)\n",
    "model2a = Model(Inp, output)\n",
    "\n",
    "model2a.compile(loss='categorical_crossentropy',\n",
    "              optimizer='adam',\n",
    "              metrics=['accuracy'])"
   ]
  },
  {
   "cell_type": "code",
   "execution_count": 18,
   "metadata": {
    "_cell_guid": "847391bb-4640-4117-a35e-5593d823bbc4",
    "_execution_state": "busy",
    "_uuid": "8e397c8d027a4f27b1f72ac9333de51cbc335cd6"
   },
   "outputs": [
    {
     "name": "stdout",
     "output_type": "stream",
     "text": [
      "Epoch 1/20\n",
      "336/336 - 6s - loss: 0.3344 - accuracy: 0.9021 - val_loss: 0.1560 - val_accuracy: 0.9530 - 6s/epoch - 17ms/step\n",
      "Epoch 2/20\n",
      "336/336 - 3s - loss: 0.1229 - accuracy: 0.9616 - val_loss: 0.1142 - val_accuracy: 0.9638 - 3s/epoch - 10ms/step\n",
      "Epoch 3/20\n",
      "336/336 - 3s - loss: 0.0808 - accuracy: 0.9741 - val_loss: 0.0959 - val_accuracy: 0.9705 - 3s/epoch - 10ms/step\n",
      "Epoch 4/20\n",
      "336/336 - 3s - loss: 0.0577 - accuracy: 0.9821 - val_loss: 0.1372 - val_accuracy: 0.9614 - 3s/epoch - 10ms/step\n",
      "Epoch 5/20\n",
      "336/336 - 3s - loss: 0.0448 - accuracy: 0.9852 - val_loss: 0.0848 - val_accuracy: 0.9748 - 3s/epoch - 10ms/step\n",
      "Epoch 6/20\n",
      "336/336 - 3s - loss: 0.0366 - accuracy: 0.9876 - val_loss: 0.1108 - val_accuracy: 0.9702 - 3s/epoch - 10ms/step\n",
      "Epoch 7/20\n",
      "336/336 - 3s - loss: 0.0279 - accuracy: 0.9911 - val_loss: 0.1081 - val_accuracy: 0.9738 - 3s/epoch - 9ms/step\n",
      "Epoch 8/20\n",
      "336/336 - 3s - loss: 0.0278 - accuracy: 0.9910 - val_loss: 0.1143 - val_accuracy: 0.9714 - 3s/epoch - 8ms/step\n",
      "Epoch 9/20\n",
      "336/336 - 3s - loss: 0.0203 - accuracy: 0.9935 - val_loss: 0.1253 - val_accuracy: 0.9718 - 3s/epoch - 10ms/step\n",
      "Epoch 10/20\n",
      "336/336 - 3s - loss: 0.0230 - accuracy: 0.9921 - val_loss: 0.1013 - val_accuracy: 0.9738 - 3s/epoch - 10ms/step\n",
      "Epoch 11/20\n",
      "336/336 - 3s - loss: 0.0164 - accuracy: 0.9946 - val_loss: 0.1180 - val_accuracy: 0.9731 - 3s/epoch - 10ms/step\n",
      "Epoch 12/20\n",
      "336/336 - 3s - loss: 0.0208 - accuracy: 0.9926 - val_loss: 0.1135 - val_accuracy: 0.9735 - 3s/epoch - 10ms/step\n",
      "Epoch 13/20\n",
      "336/336 - 4s - loss: 0.0142 - accuracy: 0.9951 - val_loss: 0.1265 - val_accuracy: 0.9758 - 4s/epoch - 10ms/step\n",
      "Epoch 14/20\n",
      "336/336 - 3s - loss: 0.0171 - accuracy: 0.9946 - val_loss: 0.1214 - val_accuracy: 0.9749 - 3s/epoch - 10ms/step\n",
      "Epoch 15/20\n",
      "336/336 - 3s - loss: 0.0112 - accuracy: 0.9962 - val_loss: 0.1108 - val_accuracy: 0.9788 - 3s/epoch - 10ms/step\n",
      "Epoch 16/20\n",
      "336/336 - 3s - loss: 0.0121 - accuracy: 0.9962 - val_loss: 0.1557 - val_accuracy: 0.9675 - 3s/epoch - 10ms/step\n",
      "Epoch 17/20\n",
      "336/336 - 3s - loss: 0.0143 - accuracy: 0.9957 - val_loss: 0.1097 - val_accuracy: 0.9780 - 3s/epoch - 10ms/step\n",
      "Epoch 18/20\n",
      "336/336 - 3s - loss: 0.0122 - accuracy: 0.9958 - val_loss: 0.1202 - val_accuracy: 0.9763 - 3s/epoch - 10ms/step\n",
      "Epoch 19/20\n",
      "336/336 - 3s - loss: 0.0153 - accuracy: 0.9951 - val_loss: 0.1591 - val_accuracy: 0.9668 - 3s/epoch - 10ms/step\n",
      "Epoch 20/20\n",
      "336/336 - 3s - loss: 0.0092 - accuracy: 0.9970 - val_loss: 0.1320 - val_accuracy: 0.9749 - 3s/epoch - 10ms/step\n"
     ]
    }
   ],
   "source": [
    "history2a = model2a.fit(X_train, y_train,\n",
    "                        batch_size = batch_size,\n",
    "                        epochs = training_epochs,\n",
    "                        verbose = 2,\n",
    "                        validation_data=(X_cv, y_cv))"
   ]
  },
  {
   "cell_type": "code",
   "execution_count": 19,
   "metadata": {
    "_cell_guid": "18ef2f7d-f9a6-4609-8fd4-7d98cb7bc82f",
    "_execution_state": "busy",
    "_uuid": "fbc0a1e06296ada3553c9328e48861645680bbf9"
   },
   "outputs": [],
   "source": [
    "Inp = Input(shape=(784,))\n",
    "x = Dense(n_hidden_1, activation='relu', name = \"Hidden_Layer_1\")(Inp)\n",
    "x = Dense(n_hidden_2, activation='relu', name = \"Hidden_Layer_2\")(x)\n",
    "x = Dense(n_hidden_3, activation='relu', name = \"Hidden_Layer_3\")(x)\n",
    "x = Dense(n_hidden_4, activation='relu', name = \"Hidden_Layer_4\")(x)\n",
    "output = Dense(num_digits, activation='softmax', name = \"Output_Layer\")(x)\n",
    "\n",
    "learning_rate = 0.5\n",
    "adam = keras.optimizers.Adam(lr=learning_rate)\n",
    "model2b = Model(Inp, output)\n",
    "\n",
    "model2b.compile(loss='categorical_crossentropy',\n",
    "              optimizer='adam',\n",
    "              metrics=['accuracy'])"
   ]
  },
  {
   "cell_type": "code",
   "execution_count": null,
   "metadata": {
    "_cell_guid": "ad3ac83b-a040-42ba-9d62-2203e62a82ec",
    "_execution_state": "busy",
    "_uuid": "c2e1a75c4a95acdfd3d5ce81af0c20bce995ca24"
   },
   "outputs": [
    {
     "name": "stdout",
     "output_type": "stream",
     "text": [
      "Epoch 1/20\n",
      "336/336 [==============================] - 6s 12ms/step - loss: 0.3508 - accuracy: 0.8966 - val_loss: 0.1632 - val_accuracy: 0.9485\n",
      "Epoch 2/20\n",
      "336/336 [==============================] - 4s 11ms/step - loss: 0.1247 - accuracy: 0.9629 - val_loss: 0.1297 - val_accuracy: 0.9589\n",
      "Epoch 3/20\n",
      " 27/336 [=>............................] - ETA: 2s - loss: 0.0946 - accuracy: 0.9730"
     ]
    }
   ],
   "source": [
    "history2b = model2b.fit(X_train, y_train,\n",
    "                        batch_size = batch_size,\n",
    "                        epochs = training_epochs,\n",
    "                            validation_data=(X_cv, y_cv))"
   ]
  },
  {
   "cell_type": "code",
   "execution_count": null,
   "metadata": {
    "_cell_guid": "25d57f65-533c-432b-bd4a-a3127101d4bb",
    "_execution_state": "busy",
    "_uuid": "c19270be516858cca76b3479417e4017877896b1"
   },
   "outputs": [],
   "source": [
    "# Input Parameters\n",
    "n_input = 784 # number of features\n",
    "n_hidden_1 = 300\n",
    "n_hidden_2 = 100\n",
    "n_hidden_3 = 100\n",
    "n_hidden_4 = 100\n",
    "n_hidden_5 = 200\n",
    "num_digits = 10"
   ]
  },
  {
   "cell_type": "code",
   "execution_count": null,
   "metadata": {
    "_cell_guid": "d179df94-04b5-4d1e-ab7f-882a72442837",
    "_execution_state": "busy",
    "_uuid": "c919e5d20e55f0c86152efbb729feeb0292abf0a"
   },
   "outputs": [],
   "source": [
    "Inp = Input(shape=(784,))\n",
    "x = Dense(n_hidden_1, activation='relu', name = \"Hidden_Layer_1\")(Inp)\n",
    "x = Dense(n_hidden_2, activation='relu', name = \"Hidden_Layer_2\")(x)\n",
    "x = Dense(n_hidden_3, activation='relu', name = \"Hidden_Layer_3\")(x)\n",
    "x = Dense(n_hidden_4, activation='relu', name = \"Hidden_Layer_4\")(x)\n",
    "x = Dense(n_hidden_5, activation='relu', name = \"Hidden_Layer_5\")(x)\n",
    "output = Dense(num_digits, activation='softmax', name = \"Output_Layer\")(x)"
   ]
  },
  {
   "cell_type": "code",
   "execution_count": null,
   "metadata": {
    "_cell_guid": "04f2f013-41ee-48a7-9204-cfe8b748e09c",
    "_execution_state": "busy",
    "_uuid": "db189665726670192df8ed9e9758e908821f629b"
   },
   "outputs": [],
   "source": [
    "# Our model would have '7' layers - input layer, 5 hidden layer and 1 output layer\n",
    "model3 = Model(Inp, output)\n",
    "model3.summary() # We have 308,010 parameters to estimate"
   ]
  },
  {
   "cell_type": "code",
   "execution_count": null,
   "metadata": {
    "_cell_guid": "3da4e128-5987-4fb3-a2c7-93420c844d1d",
    "_execution_state": "busy",
    "_uuid": "304ab7710bc6f2e56d698cc232fadbba6886b664"
   },
   "outputs": [],
   "source": [
    "# We rely on 'Adam' as our optimizing methodology\n",
    "adam = keras.optimizers.Adam(lr=0.01)\n",
    "\n",
    "model3.compile(loss='categorical_crossentropy',\n",
    "              optimizer='adam',\n",
    "              metrics=['accuracy'])"
   ]
  },
  {
   "cell_type": "code",
   "execution_count": null,
   "metadata": {
    "_cell_guid": "f7ac3e43-bf76-488d-8ec6-31ec98228ee6",
    "_execution_state": "busy",
    "_uuid": "986fc367bbd1fc9767c30a03324c4d18e3bfd0d5"
   },
   "outputs": [],
   "source": [
    "history3 = model3.fit(X_train, y_train,\n",
    "                      batch_size = batch_size,\n",
    "                      epochs = training_epochs,\n",
    "                      validation_data=(X_cv, y_cv))"
   ]
  },
  {
   "cell_type": "code",
   "execution_count": null,
   "metadata": {
    "_cell_guid": "9054eb9b-e655-415c-93e7-3f0ca45d84ac",
    "_execution_state": "busy",
    "_uuid": "608b71d5bd8dc23df6d916e7371887fd52dd24d8"
   },
   "outputs": [],
   "source": [
    "# Input Parameters\n",
    "n_input = 784 # number of features\n",
    "n_hidden_1 = 300\n",
    "n_hidden_2 = 100\n",
    "n_hidden_3 = 100\n",
    "n_hidden_4 = 200\n",
    "num_digits = 10"
   ]
  },
  {
   "cell_type": "code",
   "execution_count": null,
   "metadata": {
    "_cell_guid": "0541e860-b2f6-43cd-8d00-254e9daf775a",
    "_execution_state": "busy",
    "_uuid": "d6335bd113992a8898679d1a5d09ed2eda3fe5af"
   },
   "outputs": [],
   "source": [
    "Inp = Input(shape=(784,))\n",
    "x = Dense(n_hidden_1, activation='relu', name = \"Hidden_Layer_1\")(Inp)\n",
    "x = Dropout(0.3)(x)\n",
    "x = Dense(n_hidden_2, activation='relu', name = \"Hidden_Layer_2\")(x)\n",
    "x = Dropout(0.3)(x)\n",
    "x = Dense(n_hidden_3, activation='relu', name = \"Hidden_Layer_3\")(x)\n",
    "x = Dropout(0.3)(x)\n",
    "x = Dense(n_hidden_4, activation='relu', name = \"Hidden_Layer_4\")(x)\n",
    "output = Dense(num_digits, activation='softmax', name = \"Output_Layer\")(x)"
   ]
  },
  {
   "cell_type": "code",
   "execution_count": null,
   "metadata": {
    "_cell_guid": "95f4299a-0e1c-4dca-b7d5-839e7a5e8fc8",
    "_execution_state": "busy",
    "_uuid": "08e56562d89bcd25756bc5bbbb4f33ceb87f106e"
   },
   "outputs": [],
   "source": [
    "# Our model would have '6' layers - input layer, 4 hidden layer and 1 output layer\n",
    "model4 = Model(Inp, output)\n",
    "model4.summary() # We have 297,910 parameters to estimate"
   ]
  },
  {
   "cell_type": "code",
   "execution_count": null,
   "metadata": {
    "_cell_guid": "ed1c4a9d-730e-4e4d-8a25-4448d877d5b6",
    "_execution_state": "busy",
    "_uuid": "2328fa07b0f4c63448b0c30b7ae450df2b0fe3be"
   },
   "outputs": [],
   "source": [
    "model4.compile(loss='categorical_crossentropy',\n",
    "              optimizer='adam',\n",
    "              metrics=['accuracy'])"
   ]
  },
  {
   "cell_type": "code",
   "execution_count": null,
   "metadata": {
    "_cell_guid": "8543232e-da2b-46ce-9a5e-06e6283b854a",
    "_execution_state": "busy",
    "_uuid": "986af85bbaf1b212b00cf28dc9204339b717ee48"
   },
   "outputs": [],
   "source": [
    "history = model4.fit(X_train, y_train,\n",
    "                    batch_size = batch_size,\n",
    "                    epochs = training_epochs,\n",
    "                    validation_data=(X_cv, y_cv))"
   ]
  },
  {
   "cell_type": "code",
   "execution_count": null,
   "metadata": {
    "_cell_guid": "d07359be-0cb3-4e0b-9d3e-d8953f67211d",
    "_execution_state": "busy",
    "_uuid": "8ae888d3b351dca6417ed4e3830688f1b75701ec"
   },
   "outputs": [],
   "source": [
    "test_pred = pd.DataFrame(model4.predict(X_test, batch_size=200))\n",
    "test_pred = pd.DataFrame(test_pred.idxmax(axis = 1))\n",
    "test_pred.index.name = 'ImageId'\n",
    "test_pred = test_pred.rename(columns = {0: 'Label'}).reset_index()\n",
    "test_pred['ImageId'] = test_pred['ImageId'] + 1\n",
    "\n",
    "test_pred.head()"
   ]
  }
 ],
 "metadata": {
  "kernelspec": {
   "display_name": "Python 3 (ipykernel)",
   "language": "python",
   "name": "python3"
  },
  "language_info": {
   "codemirror_mode": {
    "name": "ipython",
    "version": 3
   },
   "file_extension": ".py",
   "mimetype": "text/x-python",
   "name": "python",
   "nbconvert_exporter": "python",
   "pygments_lexer": "ipython3",
   "version": "3.9.12"
  }
 },
 "nbformat": 4,
 "nbformat_minor": 1
}
